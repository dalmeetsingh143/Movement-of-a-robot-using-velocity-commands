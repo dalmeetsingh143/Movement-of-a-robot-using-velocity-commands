{
 "cells": [
  {
   "cell_type": "markdown",
   "id": "abe9233c",
   "metadata": {},
   "source": [
    "# Movement of a robot using velocity commands"
   ]
  },
  {
   "cell_type": "code",
   "execution_count": 6,
   "id": "edce5e62",
   "metadata": {},
   "outputs": [],
   "source": [
    "# IMPORTS\n",
    "import numpy as np\n",
    "from numpy import random\n",
    "import matplotlib.pyplot as plt\n",
    "import time\n",
    "from IPython.display import display, clear_output\n",
    "\n",
    "import sys\n",
    "sys.path.append(\"..\")\n",
    "from utils.DrawRobot import DrawRobot\n",
    "from utils.PlotEllipse import PlotEllipse"
   ]
  },
  {
   "cell_type": "code",
   "execution_count": 7,
   "id": "6bedb3e1",
   "metadata": {},
   "outputs": [],
   "source": [
    "def next_pose(x, u, dt, cov=None):\n",
    "    ''' This function takes pose x and transform it according to the motion u=[v,w]'\n",
    "        applying the differential drive model.\n",
    "\n",
    "        Args:\n",
    "            x: current pose\n",
    "            u: differential command as a vector [v, w]'\n",
    "            dt: Time interval in which the movement occurs\n",
    "            cov: covariance of our movement. If not None, then add gaussian noise\n",
    "    '''\n",
    "    if cov is not None:\n",
    "        u += np.sqrt(cov) @ random.randn(2, 1)\n",
    "\n",
    "    if u[1] == 0: #linear motion w=0\n",
    "        next_x = x + np.array([u[0] * np.cos(x[2]) * dt, u[0] * np.sin(x[2]) * dt, 0])\n",
    "        #next_x = np.vstack([u[0] * np.cos(x[2]) * dt, u[0] * np.sin(x[2]) * dt, 0])\n",
    "    else: #Non-linear motion w=!0\n",
    "        R = u[0]/u[1] #v/w=r is the curvature radius\n",
    "        next_x = x + np.array([-R * np.sin(x[2]) + R * np.sin(x[2] + u[1] * dt),\n",
    "                               R * np.cos(x[2]) - R * np.cos(x[2] + u[1] * dt),\n",
    "                               u[1] * dt])\n",
    "        #next_x = np.vstack([-R * np.sin(x[2]) + R * np.sin(x[2] + u[1] * dt),\n",
    "                               #R * np.cos(x[2]) - R * np.cos(x[2] + u[1] * dt),\n",
    "                               #u[1] * dt])\n",
    "\n",
    "    return next_x"
   ]
  },
  {
   "cell_type": "code",
   "execution_count": 8,
   "id": "4cd1e0ca",
   "metadata": {},
   "outputs": [],
   "source": [
    "class VelocityRobot(object):\n",
    "    \"\"\" Mobile robot implementation that uses velocity commands.\n",
    "    \n",
    "        Attr:\n",
    "            pose: expected pose of the robot in the real world (without taking account noise)\n",
    "            dt: Duration of each step in seconds\n",
    "    \"\"\"    \n",
    "    def __init__(self, mean, dt):\n",
    "        self.pose = mean\n",
    "        self.dt = dt\n",
    "        \n",
    "    def step(self, u):\n",
    "        self.pose = next_pose(self.pose, u, self.dt)\n",
    "        \n",
    "    def draw(self, fig, ax):\n",
    "        DrawRobot(fig, ax, self.pose)\n",
    "        "
   ]
  },
  {
   "cell_type": "markdown",
   "id": "483b3327",
   "metadata": {},
   "source": [
    "# TEST ROBOT"
   ]
  },
  {
   "cell_type": "code",
   "execution_count": 9,
   "id": "a5c732f8",
   "metadata": {},
   "outputs": [],
   "source": [
    "def main(robot, nSteps):\n",
    "          \n",
    "    v = 1 # Linear Velocity \n",
    "    l = 0.5 #Half the width of the robot\n",
    "        \n",
    "    # MATPLOTLIB\n",
    "    fig, ax = plt.subplots()\n",
    "    plt.ion()\n",
    "    fig.canvas.draw()\n",
    "    plt.xlim((-2, 20))\n",
    "    plt.ylim((-2, 30))\n",
    "    \n",
    "    plt.fill((7.5, 7.5, 16, 16, 20, 20), (-2, 7.5, 7.5, 20, 20, -2),\n",
    "            facecolor='lightgreen', edgecolor='blue', linewidth=4)\n",
    "    plt.fill((-3, 0, 0, 7.5, 7.5, -3), (5, 5, 17.5, 17.5, 32, 32),\n",
    "            facecolor='lightgreen', edgecolor='blue', linewidth=4)\n",
    "    \n",
    "    plt.grid()\n",
    "        \n",
    "    # MAIN LOOP\n",
    "    for k in range(1, nSteps + 1):\n",
    "        #control is a wiggle with constant linear velocity\n",
    "        u = np.vstack((v, np.pi / 10 * np.sin(4 * np.pi * k/nSteps)))\n",
    "        \n",
    "        robot.step(u)   \n",
    "        \n",
    "        #draw occasionally\n",
    "        if (k-1)%20 == 0:\n",
    "            robot.draw(fig, ax)\n",
    "            clear_output(wait=True)\n",
    "            display(fig)\n",
    "            time.sleep(0.1)\n",
    "            \n",
    "            plt.close()\n"
   ]
  },
  {
   "cell_type": "code",
   "execution_count": 10,
   "id": "d4274d09",
   "metadata": {},
   "outputs": [
    {
     "data": {
      "image/png": "[encoded data removed]",
      "text/plain": [
       "<Figure size 640x480 with 1 Axes>"
      ]
     },
     "metadata": {},
     "output_type": "display_data"
    }
   ],
   "source": [
    "# RUN \n",
    "dT = 0.1 # time steps size\n",
    "pose = np.vstack([0., 0., 0.])\n",
    "\n",
    "robot = VelocityRobot(pose, dT)\n",
    "main(robot, nSteps=400)"
   ]
  },
  {
   "cell_type": "code",
   "execution_count": null,
   "id": "3bd62b9c",
   "metadata": {},
   "outputs": [],
   "source": []
  }
 ],
 "metadata": {
  "kernelspec": {
   "display_name": "Python 3 (ipykernel)",
   "language": "python",
   "name": "python3"
  },
  "language_info": {
   "codemirror_mode": {
    "name": "ipython",
    "version": 3
   },
   "file_extension": ".py",
   "mimetype": "text/x-python",
   "name": "python",
   "nbconvert_exporter": "python",
   "pygments_lexer": "ipython3",
   "version": "3.10.9"
  }
 },
 "nbformat": 4,
 "nbformat_minor": 5
}
